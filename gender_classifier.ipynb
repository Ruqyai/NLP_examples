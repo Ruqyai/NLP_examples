{
  "nbformat": 4,
  "nbformat_minor": 0,
  "metadata": {
    "colab": {
      "name": "gender classifier.ipynb",
      "provenance": [],
      "authorship_tag": "ABX9TyPu9ZIALDzjcqUQko7ETZXC",
      "include_colab_link": true
    },
    "kernelspec": {
      "name": "python3",
      "display_name": "Python 3"
    }
  },
  "cells": [
    {
      "cell_type": "markdown",
      "metadata": {
        "id": "view-in-github",
        "colab_type": "text"
      },
      "source": [
        "<a href=\"https://colab.research.google.com/github/Ruqyai/NLP_examples/blob/master/gender_classifier.ipynb\" target=\"_parent\"><img src=\"https://colab.research.google.com/assets/colab-badge.svg\" alt=\"Open In Colab\"/></a>"
      ]
    },
    {
      "cell_type": "code",
      "metadata": {
        "id": "FLVsobrBxRJo",
        "colab_type": "code",
        "outputId": "695c1237-ff20-4d76-a446-492d87848b39",
        "colab": {
          "base_uri": "https://localhost:8080/",
          "height": 51
        }
      },
      "source": [
        "# importing libraries \n",
        "\n",
        "import random \n",
        "import nltk \n",
        "nltk.download('names')\n",
        "from nltk.corpus import names "
      ],
      "execution_count": 0,
      "outputs": [
        {
          "output_type": "stream",
          "text": [
            "[nltk_data] Downloading package names to /root/nltk_data...\n",
            "[nltk_data]   Unzipping corpora/names.zip.\n"
          ],
          "name": "stdout"
        }
      ]
    },
    {
      "cell_type": "code",
      "metadata": {
        "id": "Z6BGVKbor0oj",
        "colab_type": "code",
        "colab": {}
      },
      "source": [
        "def gender_features(word): \n",
        "\treturn {'last_letter':word[-1]} "
      ],
      "execution_count": 0,
      "outputs": []
    },
    {
      "cell_type": "code",
      "metadata": {
        "id": "3_diY4yMxr76",
        "colab_type": "code",
        "colab": {}
      },
      "source": [
        "# preparing a list of examples and corresponding class labels. \n",
        "labeled_names = ([(name, 'male') for name in names.words('male.txt')]+\n",
        "\t\t\t[(name, 'female') for name in names.words('female.txt')]) \n",
        "\n",
        "random.shuffle(labeled_names) \n",
        "\n",
        "# we use the feature extractor to process the names data. \n",
        "featuresets = [(gender_features(n), gender) \n",
        "\t\t\tfor (n, gender)in labeled_names] \n",
        "\n",
        "# Divide the resulting list of feature \n",
        "# sets into a training set and a test set. \n",
        "train_set, test_set = featuresets[500:], featuresets[:500] \n"
      ],
      "execution_count": 0,
      "outputs": []
    },
    {
      "cell_type": "code",
      "metadata": {
        "id": "RFgYW-bOxYdm",
        "colab_type": "code",
        "colab": {}
      },
      "source": [
        "# The training set is used to \n",
        "# train a new \"naive Bayes\" classifier. \n",
        "classifier = nltk.NaiveBayesClassifier.train(train_set) "
      ],
      "execution_count": 0,
      "outputs": []
    },
    {
      "cell_type": "code",
      "metadata": {
        "id": "ne7mD3koxmPJ",
        "colab_type": "code",
        "outputId": "c7157573-9a7d-44fe-f395-11a7559d442e",
        "colab": {
          "base_uri": "https://localhost:8080/",
          "height": 51
        }
      },
      "source": [
        "print(classifier.classify(gender_features('Ruqiya'))) \n",
        "print(nltk.classify.accuracy(classifier, train_set)) \n"
      ],
      "execution_count": 0,
      "outputs": [
        {
          "output_type": "stream",
          "text": [
            "female\n",
            "0.762224610424503\n"
          ],
          "name": "stdout"
        }
      ]
    }
  ]
}